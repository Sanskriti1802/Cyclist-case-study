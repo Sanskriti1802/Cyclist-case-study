{
 "cells": [
  {
   "cell_type": "markdown",
   "id": "5345ef0b",
   "metadata": {},
   "source": [
    "IMPORTING LIBRARIES"
   ]
  },
  {
   "cell_type": "code",
   "execution_count": null,
   "id": "dc20a2f2",
   "metadata": {},
   "outputs": [],
   "source": [
    "import pandas as pd\n",
    "import numpy as np\n",
    "import matplotlib.pyplot as plt\n",
    "import seaborn as sns"
   ]
  },
  {
   "cell_type": "markdown",
   "id": "cda7be33",
   "metadata": {},
   "source": [
    "IMPORTING DATA"
   ]
  },
  {
   "cell_type": "code",
   "execution_count": null,
   "id": "a69abe61",
   "metadata": {},
   "outputs": [],
   "source": [
    "import os\n",
    "\n",
    "directory = r'C:\\Users\\kandp\\OneDrive\\Desktop\\PROJECT\\CYCLIST\\FINAL DATA'\n",
    "dfs = []\n",
    "files = os.listdir(directory)\n",
    "print(\"Files in directory:\", files)\n",
    "\n",
    "for filename in files:\n",
    "    if filename.endswith(\".xlsx\") or filename.endswith(\".xls\"):\n",
    "        file_path = os.path.join(directory, filename)\n",
    "        print(f\"Reading file: {file_path}\")\n",
    "        df = pd.read_excel(file_path)\n",
    "        dfs.append(df)\n",
    "\n",
    "if not dfs:\n",
    "    print(\"No Excel files were found in the directory.\")\n",
    "else:\n",
    "    combined_df = pd.concat(dfs, ignore_index=True)\n",
    "    print(combined_df.head())"
   ]
  },
  {
   "cell_type": "markdown",
   "id": "21b76177",
   "metadata": {},
   "source": [
    "DESCRIPTIVE STATISTICS"
   ]
  },
  {
   "cell_type": "code",
   "execution_count": null,
   "id": "248df01c",
   "metadata": {},
   "outputs": [],
   "source": [
    "combined_df_encoded = pd.get_dummies(combined_df, columns=['rideable_type', 'member_casual'])\n",
    "print(combined_df_encoded.head())"
   ]
  },
  {
   "cell_type": "code",
   "execution_count": null,
   "id": "566206d1",
   "metadata": {
    "scrolled": false
   },
   "outputs": [],
   "source": [
    "combined_df['started_at'] = pd.to_datetime(combined_df['started_at'])\n",
    "combined_df['ended_at'] = pd.to_datetime(combined_df['ended_at'])\n",
    "combined_df['ride_duration'] = (combined_df['ended_at'] - combined_df['started_at']).dt.total_seconds()\n",
    "print(combined_df.head())\n",
    "#duration is in seconds"
   ]
  },
  {
   "cell_type": "code",
   "execution_count": null,
   "id": "7a7b3885",
   "metadata": {
    "scrolled": false
   },
   "outputs": [],
   "source": [
    "combined_df['started_at'] = pd.to_datetime(combined_df['started_at'])\n",
    "combined_df['ended_at'] = pd.to_datetime(combined_df['ended_at'])\n",
    "combined_df['ride_duration'] = (combined_df['ended_at'] - combined_df['started_at']).dt.total_seconds()\n",
    "combined_df = combined_df[combined_df['ride_duration'] > 0]\n",
    "print(combined_df.head())\n"
   ]
  },
  {
   "cell_type": "code",
   "execution_count": null,
   "id": "0609b5a2",
   "metadata": {
    "scrolled": true
   },
   "outputs": [],
   "source": []
  },
  {
   "cell_type": "code",
   "execution_count": null,
   "id": "e91cf0d0",
   "metadata": {},
   "outputs": [],
   "source": [
    "# Group by member type and calculate descriptive statistics for ride duration\n",
    "ride_duration_by_member_type = combined_df.groupby('member_casual')['ride_duration'].describe()\n",
    "print(ride_duration_by_member_type)"
   ]
  },
  {
   "cell_type": "code",
   "execution_count": null,
   "id": "ec6312fa",
   "metadata": {},
   "outputs": [],
   "source": [
    "total_classic_bike = combined_df_encoded['rideable_type_classic_bike'].sum()\n",
    "total_electric_bike = combined_df_encoded['rideable_type_electric_bike'].sum()\n",
    "total_docked_bike = combined_df_encoded['rideable_type_docked_bike'].sum() \n",
    "total_casual = combined_df_encoded['member_casual_casual'].sum()\n",
    "total_member = combined_df_encoded['member_casual_member'].sum()\n",
    "print(f\"Total classic bikes: {total_classic_bike}\")\n",
    "print(f\"Total electric bikes: {total_electric_bike}\")\n",
    "print(f\"Total docked bikes: {total_docked_bike}\") \n",
    "print(f\"Total casual users: {total_casual}\")\n",
    "print(f\"Total members users: {total_member}\")"
   ]
  },
  {
   "cell_type": "code",
   "execution_count": null,
   "id": "7c599507",
   "metadata": {
    "scrolled": true
   },
   "outputs": [],
   "source": [
    "busiest_start_station = combined_df['start_station_name'].value_counts().idxmax()\n",
    "busiest_start_station_count = combined_df['start_station_name'].value_counts().max()\n",
    "busiest_end_station = combined_df['end_station_name'].value_counts().idxmax()\n",
    "busiest_end_station_count = combined_df['end_station_name'].value_counts().max()\n",
    "top_five_start_stations = combined_df['start_station_name'].value_counts().head(5)\n",
    "top_five_end_stations = combined_df['end_station_name'].value_counts().head(5)\n",
    "print(f\"Busiest start station: {busiest_start_station} with {busiest_start_station_count} rides\")\n",
    "print(f\"Busiest end station: {busiest_end_station} with {busiest_end_station_count} rides\")\n",
    "print(\"\\nTop five start stations:\")\n",
    "print(top_five_start_stations)\n",
    "print(\"\\nTop five end stations:\")\n",
    "print(top_five_end_stations)"
   ]
  },
  {
   "cell_type": "code",
   "execution_count": null,
   "id": "6ca6ca76",
   "metadata": {},
   "outputs": [],
   "source": [
    "combined_df.loc[:, 'started_at'] = pd.to_datetime(combined_df['started_at'])\n",
    "combined_df.loc[:, 'month'] = combined_df['started_at'].dt.month\n",
    "rides_per_month = combined_df.groupby('month').size().sort_values(ascending=False)\n",
    "print(\"Rides per month (in descending order):\")\n",
    "print(rides_per_month)"
   ]
  },
  {
   "cell_type": "code",
   "execution_count": null,
   "id": "8642e0b7",
   "metadata": {},
   "outputs": [],
   "source": [
    "combined_df['started_at'] = pd.to_datetime(combined_df['started_at'])\n",
    "combined_df['day_of_week'] = combined_df['started_at'].dt.day_name()\n",
    "rides_per_day = combined_df['day_of_week'].value_counts().sort_index()\n",
    "print(\"Rides for each day of the week:\")\n",
    "print(rides_per_day)"
   ]
  },
  {
   "cell_type": "code",
   "execution_count": null,
   "id": "20b78435",
   "metadata": {
    "scrolled": false
   },
   "outputs": [],
   "source": []
  },
  {
   "cell_type": "code",
   "execution_count": null,
   "id": "4bb9f73a",
   "metadata": {
    "scrolled": false
   },
   "outputs": [],
   "source": []
  },
  {
   "cell_type": "code",
   "execution_count": null,
   "id": "7967babb",
   "metadata": {},
   "outputs": [],
   "source": [
    "ride_type_durations = combined_df.groupby('rideable_type')['ride_duration'].sum().reset_index()\n",
    "ride_type_durations.rename(columns={'ride_duration': 'total_ride_duration'}, inplace=True)\n",
    "print(ride_type_durations)"
   ]
  },
  {
   "cell_type": "code",
   "execution_count": null,
   "id": "7c82a625",
   "metadata": {},
   "outputs": [],
   "source": [
    "member_casual_durations = combined_df.groupby('member_casual')['ride_duration'].sum().reset_index()\n",
    "member_casual_durations.rename(columns={'ride_duration': 'total_ride_duration'}, inplace=True)\n",
    "print(member_casual_durations)"
   ]
  },
  {
   "cell_type": "code",
   "execution_count": null,
   "id": "0d3a2e79",
   "metadata": {},
   "outputs": [],
   "source": [
    "average_ride_length = combined_df['ride_duration'].mean()\n",
    "print(f\"Average ride length: {average_ride_length} seconds\")"
   ]
  },
  {
   "cell_type": "markdown",
   "id": "835b8b84",
   "metadata": {},
   "source": [
    "VISUALISATION"
   ]
  },
  {
   "cell_type": "code",
   "execution_count": null,
   "id": "9c1dcd03",
   "metadata": {},
   "outputs": [],
   "source": [
    "correlation_matrix = combined_df_encoded.corr()\n",
    "plt.figure(figsize=(12, 8))\n",
    "sns.heatmap(correlation_matrix, annot=True, fmt='.2f', cmap='coolwarm', cbar=True, square=True)\n",
    "plt.title('Correlation Heat Map')\n",
    "plt.show()"
   ]
  },
  {
   "cell_type": "code",
   "execution_count": null,
   "id": "282b67af",
   "metadata": {},
   "outputs": [],
   "source": [
    "rideable_type_counts = combined_df['rideable_type'].value_counts()\n",
    "member_casual_counts = combined_df['member_casual'].value_counts()\n",
    "plt.figure(figsize=(14, 7))\n",
    "\n",
    "plt.subplot(1, 2, 1)\n",
    "rideable_type_counts.plot.pie(autopct='%1.1f%%', startangle=90, colors=['#ff9999','#66b3ff','#99ff99','#ffcc99'])\n",
    "plt.title('Rideable Type Distribution')\n",
    "plt.ylabel('') \n",
    "\n",
    "plt.subplot(1, 2, 2)\n",
    "member_casual_counts.plot.pie(autopct='%1.1f%%', startangle=90, colors=['#ff9999','#66b3ff'])\n",
    "plt.title('Member Casual Distribution')\n",
    "plt.ylabel('') \n",
    "\n",
    "plt.tight_layout()\n",
    "plt.savefig('Rideable Type Distribution and Member Casual Distribution.png')\n",
    "plt.show()"
   ]
  },
  {
   "cell_type": "code",
   "execution_count": null,
   "id": "b9635433",
   "metadata": {},
   "outputs": [],
   "source": [
    "top_20_stations = combined_df['start_station_name'].value_counts().head(20).index\n",
    "df_top_20 = combined_df[combined_df['start_station_name'].isin(top_20_stations)]\n",
    "rideable_type_distribution = df_top_20.groupby(['start_station_name', 'rideable_type']).size().unstack(fill_value=0)\n",
    "member_casual_distribution = df_top_20.groupby(['start_station_name', 'member_casual']).size().unstack(fill_value=0)\n",
    "\n",
    "# Plotting the rideable_type distribution\n",
    "plt.figure(figsize=(14, 7))\n",
    "rideable_type_distribution.plot(kind='bar', stacked=True, ax=plt.gca(), colormap='viridis')\n",
    "plt.title('Distribution of Rideable Types in Top 20 Stations')\n",
    "plt.xlabel('Start Station Name')\n",
    "plt.ylabel('Number of Rides')\n",
    "plt.xticks(rotation=90)\n",
    "plt.legend(title='Rideable Type')\n",
    "plt.tight_layout()\n",
    "plt.savefig('Distribution of Rideable Types in Top 20 Stations.png')\n",
    "plt.show()\n",
    "\n",
    "# Plotting the member_casual distribution\n",
    "plt.figure(figsize=(14, 7))\n",
    "member_casual_distribution.plot(kind='bar', stacked=True, ax=plt.gca(), colormap='viridis')\n",
    "plt.title('Distribution of Member and Casual Rides in Top 20 Stations')\n",
    "plt.xlabel('Start Station Name')\n",
    "plt.ylabel('Number of Rides')\n",
    "plt.xticks(rotation=90)\n",
    "plt.legend(title='Member/Casual')\n",
    "plt.tight_layout()\n",
    "plt.savefig('Distribution of Member and Casual Rides in Top 20 Stations.png')\n",
    "plt.show()"
   ]
  },
  {
   "cell_type": "code",
   "execution_count": null,
   "id": "2515a1df",
   "metadata": {},
   "outputs": [],
   "source": [
    "monthly_rides = combined_df.groupby('month').size().reset_index(name='ride_count')\n",
    "sns.set(style='whitegrid')\n",
    "plt.figure(figsize=(12, 6))\n",
    "sns.barplot(data=monthly_rides, x='month', y='ride_count', palette='viridis')\n",
    "plt.title('Monthly Number of Rides')\n",
    "plt.xlabel('Month')\n",
    "plt.ylabel('Number of Rides')\n",
    "plt.xticks(rotation=45)\n",
    "plt.tight_layout()\n",
    "plt.savefig('Monthly Number of Rides')\n",
    "plt.show()"
   ]
  },
  {
   "cell_type": "code",
   "execution_count": null,
   "id": "be4ae38d",
   "metadata": {},
   "outputs": [],
   "source": [
    "combined_df['started_at'] = pd.to_datetime(combined_df['started_at'])\n",
    "combined_df['day_of_week'] = combined_df['started_at'].dt.day_name()\n",
    "day_of_week_counts = combined_df['day_of_week'].value_counts().sort_index()\n",
    "plt.figure(figsize=(10, 6))\n",
    "day_of_week_counts.plot(kind='bar', color='skyblue')\n",
    "plt.title('Number of Rides for Each Day of the Week')\n",
    "plt.xlabel('Day of the Week')\n",
    "plt.ylabel('Number of Rides')\n",
    "plt.xticks(rotation=45)\n",
    "plt.tight_layout()\n",
    "for i, v in enumerate(day_of_week_counts):\n",
    "    plt.text(i, v + 10, str(v), ha='center', va='bottom')\n",
    "plt.savefig('Number of Rides for Each Day of the Week')\n",
    "plt.show()"
   ]
  },
  {
   "cell_type": "code",
   "execution_count": null,
   "id": "68622cb6",
   "metadata": {},
   "outputs": [],
   "source": [
    "rideable_type_durations = combined_df.groupby('rideable_type')['ride_duration'].sum()\n",
    "member_casual_durations = combined_df.groupby('member_casual')['ride_duration'].sum()\n",
    "plt.figure(figsize=(14, 7))\n",
    "plt.subplot(1, 2, 1)\n",
    "rideable_type_durations.plot.pie(autopct='%1.1f%%', startangle=90, colors=['#ff9999','#66b3ff','#99ff99','#ffcc99'])\n",
    "plt.title('Total Ride Duration by Rideable Type')\n",
    "plt.ylabel('')\n",
    "plt.subplot(1, 2, 2)\n",
    "member_casual_durations.plot.pie(autopct='%1.1f%%', startangle=90, colors=['#ff9999','#66b3ff'])\n",
    "plt.title('Total Ride Duration by Member/Casual')\n",
    "plt.ylabel('')\n",
    "plt.tight_layout()\n",
    "plt.savefig('Total Ride Duration by Rideable Type and Total Ride Duration by Member_Casual.png')\n",
    "plt.show()"
   ]
  },
  {
   "cell_type": "code",
   "execution_count": null,
   "id": "fd31f2d7",
   "metadata": {},
   "outputs": [],
   "source": [
    "monthly_distribution = combined_df.groupby(['month', 'rideable_type']).size().reset_index(name='ride_count')\n",
    "monthly_distribution['month'] = monthly_distribution['month'].dt.to_timestamp()\n",
    "sns.set(style='whitegrid')\n",
    "plt.figure(figsize=(12, 6))\n",
    "sns.lineplot(data=monthly_distribution, x='month', y='ride_count', hue='rideable_type', marker='o')\n",
    "plt.title('Monthly Distribution of Rideable Types')\n",
    "plt.xlabel('Month')\n",
    "plt.ylabel('Number of Rides')\n",
    "plt.legend(title='Rideable Type')\n",
    "plt.xticks(rotation=45)\n",
    "plt.tight_layout()\n",
    "plt.savefig('Monthly Distribution of Rideable Types')\n",
    "plt.show()"
   ]
  },
  {
   "cell_type": "code",
   "execution_count": null,
   "id": "826d3761",
   "metadata": {},
   "outputs": [],
   "source": [
    "monthly_distribution = combined_df.groupby(['month', 'member_casual']).size().reset_index(name='ride_count')\n",
    "monthly_distribution['month'] = monthly_distribution['month'].dt.to_timestamp()\n",
    "sns.set(style='whitegrid')\n",
    "plt.figure(figsize=(12, 6))\n",
    "sns.lineplot(data=monthly_distribution, x='month', y='ride_count', hue='member_casual', marker='o')\n",
    "plt.title('Monthly Distribution of Member vs Casual Rides')\n",
    "plt.xlabel('Month')\n",
    "plt.ylabel('Number of Rides')\n",
    "plt.legend(title='User Type')\n",
    "plt.xticks(rotation=45)\n",
    "plt.tight_layout()\n",
    "plt.savefig('Monthly Distribution of Member vs Casual Rides')\n",
    "plt.show()"
   ]
  },
  {
   "cell_type": "code",
   "execution_count": null,
   "id": "b8e52c7d",
   "metadata": {},
   "outputs": [],
   "source": [
    "casual_users_df = combined_df[combined_df['member_casual'] == 'casual']\n",
    "top_start_stations = casual_users_df.groupby('start_station_name').size().reset_index(name='ride_count')\n",
    "top_start_stations = top_start_stations.sort_values(by='ride_count', ascending=False).head(10)\n",
    "sns.set(style='whitegrid')\n",
    "plt.figure(figsize=(12, 6))\n",
    "sns.barplot(data=top_start_stations, x='ride_count', y='start_station_name', palette='viridis')\n",
    "plt.title('Top 10 Starting Stations for Casual Users')\n",
    "plt.xlabel('Number of Rides')\n",
    "plt.ylabel('Starting Station')\n",
    "plt.tight_layout()\n",
    "plt.savefig('Top 10 Starting Stations for Casual Users')\n",
    "plt.show()"
   ]
  },
  {
   "cell_type": "code",
   "execution_count": null,
   "id": "391a9b48",
   "metadata": {},
   "outputs": [],
   "source": [
    "member_users_df = combined_df[combined_df['member_casual'] == 'member']\n",
    "top_start_stations = member_users_df.groupby('start_station_name').size().reset_index(name='ride_count')\n",
    "top_start_stations = top_start_stations.sort_values(by='ride_count', ascending=False).head(10)\n",
    "sns.set(style='whitegrid')\n",
    "plt.figure(figsize=(12, 6))\n",
    "sns.barplot(data=top_start_stations, x='ride_count', y='start_station_name', palette='viridis')\n",
    "plt.title('Top 10 Starting Stations for Member Users')\n",
    "plt.xlabel('Number of Rides')\n",
    "plt.ylabel('Starting Station')\n",
    "plt.tight_layout()\n",
    "plt.savefig('Top 10 Starting Stations for Member Users')\n",
    "plt.show()"
   ]
  },
  {
   "cell_type": "code",
   "execution_count": null,
   "id": "74d0d329",
   "metadata": {},
   "outputs": [],
   "source": [
    "electric_bike_df = combined_df[combined_df['rideable_type'] == 'electric_bike']\n",
    "start_station_counts = electric_bike_df['start_station_name'].value_counts()\n",
    "top_10_stations = start_station_counts.head(10)\n",
    "plt.figure(figsize=(14, 7))\n",
    "top_10_stations.plot(kind='bar', color='skyblue')\n",
    "plt.title('Top 10 Starting Stations for Electric Bikes')\n",
    "plt.xlabel('Start Station Name')\n",
    "plt.ylabel('Number of Rides')\n",
    "plt.xticks(rotation=45, ha='right')\n",
    "plt.tight_layout()\n",
    "plt.savefig('Top 10 Starting Stations for Electric Bikes')\n",
    "plt.show()"
   ]
  },
  {
   "cell_type": "code",
   "execution_count": null,
   "id": "4a0a400e",
   "metadata": {},
   "outputs": [],
   "source": [
    "classic_bike_df = combined_df[combined_df['rideable_type'] == 'classic_bike']\n",
    "start_station_counts = classic_bike_df['start_station_name'].value_counts()\n",
    "top_10_stations = start_station_counts.head(10)\n",
    "plt.figure(figsize=(14, 7))\n",
    "top_10_stations.plot(kind='bar', color='skyblue')\n",
    "plt.title('Top 10 Starting Stations for Classic Bikes')\n",
    "plt.xlabel('Start Station Name')\n",
    "plt.ylabel('Number of Rides')\n",
    "plt.xticks(rotation=45, ha='right')\n",
    "plt.tight_layout()\n",
    "plt.savefig('Top 10 Starting Stations for Classic Bikes')\n",
    "plt.show()"
   ]
  },
  {
   "cell_type": "code",
   "execution_count": null,
   "id": "a9698cd3",
   "metadata": {},
   "outputs": [],
   "source": [
    "docked_bike_df = combined_df[combined_df['rideable_type'] == 'docked_bike']\n",
    "start_station_counts = docked_bike_df['start_station_name'].value_counts()\n",
    "top_10_stations = start_station_counts.head(10)\n",
    "plt.figure(figsize=(14, 7))\n",
    "top_10_stations.plot(kind='bar', color='skyblue')\n",
    "plt.title('Top 10 Starting Stations for Docked Bikes')\n",
    "plt.xlabel('Start Station Name')\n",
    "plt.ylabel('Number of Rides')\n",
    "plt.xticks(rotation=45, ha='right')\n",
    "plt.tight_layout()\n",
    "plt.savefig('Top 10 Starting Stations for Docked Bikes')\n",
    "plt.show()"
   ]
  },
  {
   "cell_type": "code",
   "execution_count": null,
   "id": "f0908303",
   "metadata": {},
   "outputs": [],
   "source": [
    "#Peak hour analysis\n",
    "combined_df['start_hour'] = combined_df['started_at'].dt.hour\n",
    "rides_by_hour = combined_df.groupby('start_hour').size().reset_index(name='ride_count')\n",
    "plt.figure(figsize=(12, 6))\n",
    "sns.lineplot(data=rides_by_hour, x='start_hour', y='ride_count', marker='o')\n",
    "plt.title('Distribution of Rides by Hour')\n",
    "plt.xlabel('Hour of the Day')\n",
    "plt.ylabel('Number of Rides')\n",
    "plt.xticks(range(0, 24))\n",
    "plt.tight_layout()\n",
    "plt.savefig('Distribution of Rides by Hour')\n",
    "plt.show()"
   ]
  },
  {
   "cell_type": "code",
   "execution_count": null,
   "id": "2b97f892",
   "metadata": {},
   "outputs": [],
   "source": [
    "combined_df['hour'] = combined_df['started_at'].dt.hour\n",
    "hourly_usage = combined_df.groupby(['member_casual', 'hour']).size().unstack(fill_value=0)\n",
    "plt.figure(figsize=(14, 7))\n",
    "for member_casual in hourly_usage.index:\n",
    "    plt.plot(hourly_usage.columns, hourly_usage.loc[member_casual], label=member_casual)\n",
    "plt.title('Hourly Usage of Bikes According to Member/Casual')\n",
    "plt.xlabel('Hour of the Day')\n",
    "plt.ylabel('Number of Rides')\n",
    "plt.legend(title='User Type')\n",
    "plt.xticks(range(24))\n",
    "plt.grid(True)\n",
    "plt.tight_layout()\n",
    "plt.savefig('Hourly Usage of Bikes According to Member_Casual')\n",
    "plt.show()"
   ]
  },
  {
   "cell_type": "code",
   "execution_count": null,
   "id": "9bff8125",
   "metadata": {},
   "outputs": [],
   "source": [
    "hourly_usage_1 = combined_df.groupby(['rideable_type', 'hour']).size().unstack(fill_value=0)\n",
    "plt.figure(figsize=(14, 7))\n",
    "for rideable_type in hourly_usage_1.index:\n",
    "    plt.plot(hourly_usage_1.columns, hourly_usage_1.loc[rideable_type], label=rideable_type)\n",
    "plt.title('Hourly Usage of Bikes According to Rideable Type')\n",
    "plt.xlabel('Hour of the Day')\n",
    "plt.ylabel('Number of Rides')\n",
    "plt.legend(title='Rideable Type')\n",
    "plt.xticks(range(24))\n",
    "plt.grid(True)\n",
    "plt.tight_layout()\n",
    "plt.savefig('Hourly Usage of Bikes According to Rideable Type')\n",
    "plt.show()"
   ]
  },
  {
   "cell_type": "code",
   "execution_count": null,
   "id": "a4397fe9",
   "metadata": {
    "scrolled": false
   },
   "outputs": [],
   "source": [
    "ride_counts = combined_df.groupby(['rideable_type', 'member_casual']).size().unstack(fill_value=0)\n",
    "ax = ride_counts.plot(kind='bar', figsize=(14, 7), color=['skyblue', 'salmon'])\n",
    "plt.title('Distribution of Casual and Member Users According to Rideable Type')\n",
    "plt.xlabel('Rideable Type')\n",
    "plt.ylabel('Number of Rides')\n",
    "plt.xticks(rotation=0)\n",
    "plt.legend(title='User Type')\n",
    "plt.tight_layout()\n",
    "for container in ax.containers:\n",
    "    ax.bar_label(container)\n",
    "plt.savefig('Distribution of Casual and Member Users According to Rideable Type')\n",
    "plt.show()"
   ]
  },
  {
   "cell_type": "code",
   "execution_count": null,
   "id": "dd1c4f65",
   "metadata": {},
   "outputs": [],
   "source": [
    "import folium\n",
    "from folium.plugins import HeatMap\n",
    "\n",
    "# Ensure your DataFrame has columns for latitude and longitude\n",
    "# In your case, it's `start_lat` and `start_lng`\n",
    "\n",
    "# Create a base map centered around an average latitude and longitude\n",
    "avg_lat = combined_df['start_lat'].mean()\n",
    "avg_lng = combined_df['start_lng'].mean()\n",
    "m = folium.Map(location=[avg_lat, avg_lng], zoom_start=12)\n",
    "\n",
    "# Create a list of locations for the heatmap\n",
    "heat_data = [[row['start_lat'], row['start_lng']] for index, row in combined_df.iterrows()]\n",
    "\n",
    "# Add the heatmap to the map\n",
    "HeatMap(heat_data).add_to(m)\n",
    "\n",
    "# Save the map to an HTML file\n",
    "m.save(\"heatmap.html\")\n",
    "\n",
    "# Display the map (in Jupyter Notebook or similar environment)\n",
    "m\n",
    "\n"
   ]
  },
  {
   "cell_type": "code",
   "execution_count": null,
   "id": "0f71197e",
   "metadata": {
    "scrolled": true
   },
   "outputs": [],
   "source": [
    "from scipy.stats import ttest_ind\n",
    "\n",
    "# Separate ride durations by user type\n",
    "ride_durations_casual = combined_df[combined_df['member_casual'] == 'casual']['ride_duration']\n",
    "ride_durations_member = combined_df[combined_df['member_casual'] == 'member']['ride_duration']\n",
    "\n",
    "# Perform t-test\n",
    "t_stat, p_value = ttest_ind(ride_durations_casual, ride_durations_member, equal_var=False)\n",
    "print(f\"T-statistic: {t_stat}, P-value: {p_value}\")\n"
   ]
  }
 ],
 "metadata": {
  "kernelspec": {
   "display_name": "Python 3 (ipykernel)",
   "language": "python",
   "name": "python3"
  },
  "language_info": {
   "codemirror_mode": {
    "name": "ipython",
    "version": 3
   },
   "file_extension": ".py",
   "mimetype": "text/x-python",
   "name": "python",
   "nbconvert_exporter": "python",
   "pygments_lexer": "ipython3",
   "version": "3.9.13"
  }
 },
 "nbformat": 4,
 "nbformat_minor": 5
}
